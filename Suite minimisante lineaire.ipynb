{
 "cells": [
  {
   "cell_type": "markdown",
   "id": "5487d269",
   "metadata": {},
   "source": [
    "# Suite minimisante linéaire (duale)\n",
    "\n",
    "L'objectif est de tracer l'évolution des énergies magnétiques dans l'axe $d$ et l'axe $q$ à flux fixé en fonction du nombre de barres, et de la comparer à celles d'un matériau anisotrope homogénéisé. La fraction volumique est fixée à $\\rho = 0.5$ et n'est pas nécessairement optimale. "
   ]
  },
  {
   "cell_type": "code",
   "execution_count": 1,
   "id": "1300e8d8",
   "metadata": {},
   "outputs": [],
   "source": [
    "# Enlever les  # pour que les figures s'ouvrent dans une fenêtre interactive à part\n",
    "\n",
    "#%matplotlib qt5\n",
    "from module_optim_topo import *\n",
    "from copy import copy\n",
    "#plt.ion()"
   ]
  },
  {
   "cell_type": "code",
   "execution_count": 2,
   "id": "6da3c686",
   "metadata": {},
   "outputs": [],
   "source": [
    "# Grandeurs du problème\n",
    "mur = 1000\n",
    "phi_impose = 1\n",
    "maxN=250"
   ]
  },
  {
   "cell_type": "code",
   "execution_count": 3,
   "id": "7c80df83",
   "metadata": {},
   "outputs": [
    {
     "name": "stdout",
     "output_type": "stream",
     "text": [
      "3 barres - Jd = 127498.53 - Jq = 625626.0\n",
      "9 barres - Jd = 44033.8 - Jq = 625626.0\n",
      "15 barres - Jd = 27187.49 - Jq = 625626.0\n",
      "21 barres - Jd = 20013.9 - Jq = 625626.0\n",
      "27 barres - Jd = 16040.02 - Jq = 625626.0\n",
      "33 barres - Jd = 13515.87 - Jq = 625626.0\n",
      "39 barres - Jd = 11767.3 - Jq = 625626.0\n",
      "45 barres - Jd = 10484.09 - Jq = 625626.0\n",
      "51 barres - Jd = 9503.8 - Jq = 625626.0\n",
      "57 barres - Jd = 8726.24 - Jq = 625626.0\n",
      "63 barres - Jd = 8094.84 - Jq = 625626.0\n",
      "69 barres - Jd = 7570.75 - Jq = 625626.0\n",
      "75 barres - Jd = 7135.31 - Jq = 625626.0\n",
      "81 barres - Jd = 6754.38 - Jq = 625626.0\n",
      "87 barres - Jd = 6436.78 - Jq = 625626.0\n",
      "93 barres - Jd = 6142.83 - Jq = 625626.0\n",
      "99 barres - Jd = 5894.83 - Jq = 625626.0\n",
      "105 barres - Jd = 5679.55 - Jq = 625626.0\n",
      "111 barres - Jd = 5490.09 - Jq = 625626.0\n",
      "117 barres - Jd = 5292.06 - Jq = 625626.0\n",
      "123 barres - Jd = 5128.99 - Jq = 625626.0\n",
      "129 barres - Jd = 4983.18 - Jq = 625626.0\n",
      "135 barres - Jd = 4859.04 - Jq = 625626.0\n",
      "141 barres - Jd = 4744.12 - Jq = 625626.0\n",
      "147 barres - Jd = 4603.54 - Jq = 625626.0\n",
      "153 barres - Jd = 4489.78 - Jq = 625626.0\n",
      "159 barres - Jd = 4393.15 - Jq = 625626.0\n",
      "165 barres - Jd = 4307.0 - Jq = 625626.0\n",
      "171 barres - Jd = 4225.21 - Jq = 625626.0\n",
      "177 barres - Jd = 4153.57 - Jq = 625626.0\n",
      "183 barres - Jd = 4086.32 - Jq = 625626.0\n",
      "189 barres - Jd = 4021.86 - Jq = 625626.0\n",
      "195 barres - Jd = 3961.76 - Jq = 625626.0\n",
      "201 barres - Jd = 3885.95 - Jq = 625626.0\n",
      "207 barres - Jd = 3794.96 - Jq = 625626.0\n",
      "213 barres - Jd = 3721.02 - Jq = 625626.0\n",
      "219 barres - Jd = 3663.16 - Jq = 625626.0\n",
      "225 barres - Jd = 3611.83 - Jq = 625626.0\n",
      "231 barres - Jd = 3566.49 - Jq = 625626.0\n",
      "237 barres - Jd = 3524.81 - Jq = 625626.0\n",
      "243 barres - Jd = 3488.72 - Jq = 625626.0\n",
      "249 barres - Jd = 3454.8 - Jq = 625626.0\n",
      "255 barres - Jd = 3424.43 - Jq = 625626.0\n",
      "261 barres - Jd = 3391.76 - Jq = 625626.0\n",
      "267 barres - Jd = 3365.15 - Jq = 625626.0\n",
      "273 barres - Jd = 3336.96 - Jq = 625626.0\n",
      "279 barres - Jd = 3312.74 - Jq = 625626.0\n",
      "285 barres - Jd = 3289.24 - Jq = 625626.0\n",
      "291 barres - Jd = 3259.05 - Jq = 625626.0\n",
      "297 barres - Jd = 3233.49 - Jq = 625626.0\n"
     ]
    }
   ],
   "source": [
    "# Boucle de calcul\n",
    "\n",
    "Jd_dual = []; Jq_dual = []; J_dual = []\n",
    "barres = range(3,maxN+50,6)\n",
    "for i in barres:\n",
    "    \n",
    "    # Génération du maillage comportant i barres de fer et d'air\n",
    "    mesh = meshLamDisk(i, h = 1/maxN)\n",
    "    \n",
    "    # Résolution du problème éléments finis\n",
    "    mu = mu_defaut(mur,mesh)\n",
    "    ud, uq = solveDual_linear(mu,phi_impose,mesh)\n",
    "    \n",
    "    # Calcul des énergies magnétiques\n",
    "    Jd_dual.append(compliance(ud,mu,mesh))\n",
    "    Jq_dual.append(compliance(uq,mu,mesh))\n",
    "    J_dual.append(Jq_dual[-1]-Jd_dual[-1])\n",
    "    \n",
    "    print(f'{i} barres - Jd = {np.round(Jd_dual[-1],2)} - Jq = {np.round(Jq_dual[-1])}')"
   ]
  },
  {
   "cell_type": "code",
   "execution_count": 4,
   "id": "b2ee7828",
   "metadata": {},
   "outputs": [
    {
     "data": {
      "image/png": "[encoded data removed]",
      "text/plain": [
       "<Figure size 640x480 with 1 Axes>"
      ]
     },
     "metadata": {},
     "output_type": "display_data"
    }
   ],
   "source": [
    "frac_vol = 0.5 # fraction volumique (fixée à 0.5)\n",
    "\n",
    "# Réluctivités du matériau homogénéisé dans les axes d et q\n",
    "nud = 1/((mu0*mur) * frac_vol  + mu0 * (1-frac_vol))\n",
    "nuq = 1/(mu0*mur) * frac_vol + 1/mu0 *(1-frac_vol )\n",
    "\n",
    "# Valeurs théoriques de l'énergie magnétique pour un matériau anisotrope\n",
    "Jd_lamine = np.pi/2 *  nud * phi_impose**2 \n",
    "Jq_lamine_dual = np.pi/2 * nuq * phi_impose**2 \n",
    "\n",
    "# Tracé de l'évolution de l'énergie\n",
    "plt.semilogy(list(barres),Jd_dual,'ro:',label = '$J_d$ calculé')\n",
    "plt.semilogy(list(barres),Jq_dual,'bo:',label = '$J_q$ calculé')\n",
    "plt.semilogy([-10,max(list(barres))+10],[Jd_lamine,Jd_lamine],'r--',label = '$J_d^*$ homogénéisé')\n",
    "plt.semilogy([-10,max(list(barres))+10],[Jq_lamine_dual,Jq_lamine_dual],'b--',label = '$J_q^*$ homogénéisé')\n",
    "plt.xlabel('Nombre de barres')\n",
    "plt.ylabel('Compliance (J/m)')\n",
    "plt.legend()\n",
    "plt.grid()\n",
    "plt.show()"
   ]
  },
  {
   "cell_type": "code",
   "execution_count": 5,
   "id": "b505aa46",
   "metadata": {},
   "outputs": [
    {
     "data": {
      "application/vnd.jupyter.widget-view+json": {
       "model_id": "c23dab57abc6435490b2bf840e7b3bed",
       "version_major": 2,
       "version_minor": 0
      },
      "text/plain": [
       "WebGuiWidget(layout=Layout(height='50vh', width='100%'), value={'gui_settings': {'mesh': False, 'colormap_ncol…"
      ]
     },
     "metadata": {},
     "output_type": "display_data"
    },
    {
     "data": {
      "text/plain": [
       "BaseWebGuiScene"
      ]
     },
     "execution_count": 5,
     "metadata": {},
     "output_type": "execute_result"
    }
   ],
   "source": [
    "# Tracé champ 5 barres\n",
    "mesh = meshLamDisk(5, h = 1/maxN)\n",
    "mu = mu_defaut(mur,mesh)\n",
    "ud, uq = solveDual_linear(mu,phi_impose,mesh)\n",
    "Draw(mu*grad(ud),mesh, min = 0, max = 2, vectors = { \"grid_size\":20},\n",
    "     settings={'mesh' : False, 'colormap_ncolors' : 256})"
   ]
  },
  {
   "cell_type": "code",
   "execution_count": 6,
   "id": "67068c26",
   "metadata": {},
   "outputs": [
    {
     "data": {
      "application/vnd.jupyter.widget-view+json": {
       "model_id": "96596bdad01b4bfe83a06d0bdfceea45",
       "version_major": 2,
       "version_minor": 0
      },
      "text/plain": [
       "WebGuiWidget(layout=Layout(height='50vh', width='100%'), value={'gui_settings': {'mesh': False, 'colormap_ncol…"
      ]
     },
     "metadata": {},
     "output_type": "display_data"
    },
    {
     "data": {
      "text/plain": [
       "BaseWebGuiScene"
      ]
     },
     "execution_count": 6,
     "metadata": {},
     "output_type": "execute_result"
    }
   ],
   "source": [
    "# Tracé champ 13 barres\n",
    "mesh = meshLamDisk(13, h = 1/maxN)\n",
    "mu = mu_defaut(mur,mesh)\n",
    "ud, uq = solveDual_linear(mu,phi_impose,mesh)\n",
    "Draw(mu*grad(ud),mesh, min = 0, max = 2, vectors = { \"grid_size\":20},\n",
    "     settings={'mesh' : False, 'colormap_ncolors' : 256})"
   ]
  },
  {
   "cell_type": "code",
   "execution_count": 7,
   "id": "9a7453e1",
   "metadata": {},
   "outputs": [
    {
     "data": {
      "application/vnd.jupyter.widget-view+json": {
       "model_id": "a06d72c43a1a4f848826d1d6eecb237c",
       "version_major": 2,
       "version_minor": 0
      },
      "text/plain": [
       "WebGuiWidget(layout=Layout(height='50vh', width='100%'), value={'gui_settings': {'mesh': False, 'colormap_ncol…"
      ]
     },
     "metadata": {},
     "output_type": "display_data"
    },
    {
     "data": {
      "text/plain": [
       "BaseWebGuiScene"
      ]
     },
     "execution_count": 7,
     "metadata": {},
     "output_type": "execute_result"
    }
   ],
   "source": [
    "# Tracé champ 51 barres\n",
    "mesh = meshLamDisk(51, h = 1/maxN)\n",
    "mu = mu_defaut(mur,mesh)\n",
    "ud, uq = solveDual_linear(mu,phi_impose,mesh)\n",
    "Draw(mu*grad(ud),mesh, min = 0, max = 2, vectors = { \"grid_size\":20},\n",
    "     settings={'mesh' : False, 'colormap_ncolors' : 256})"
   ]
  }
 ],
 "metadata": {
  "kernelspec": {
   "display_name": "Python 3 (ipykernel)",
   "language": "python",
   "name": "python3"
  },
  "language_info": {
   "codemirror_mode": {
    "name": "ipython",
    "version": 3
   },
   "file_extension": ".py",
   "mimetype": "text/x-python",
   "name": "python",
   "nbconvert_exporter": "python",
   "pygments_lexer": "ipython3",
   "version": "3.9.16"
  }
 },
 "nbformat": 4,
 "nbformat_minor": 5
}
