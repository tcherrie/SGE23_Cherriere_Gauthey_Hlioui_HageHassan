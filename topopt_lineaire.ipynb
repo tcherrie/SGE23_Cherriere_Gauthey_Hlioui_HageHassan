{
 "cells": [
  {
   "cell_type": "markdown",
   "id": "3c113553",
   "metadata": {},
   "source": [
    "# Optimisation topologique linéaire"
   ]
  },
  {
   "cell_type": "code",
   "execution_count": 1,
   "id": "9b9e9e3e",
   "metadata": {},
   "outputs": [],
   "source": [
    "# Enlever les  # pour que les figures s'ouvrent dans une fenêtre interactive à part\n",
    "\n",
    "#%matplotlib qt5\n",
    "from module_optim_topo import *\n",
    "from IPython.display import clear_output\n",
    "from copy import copy\n",
    "#plt.ion()"
   ]
  },
  {
   "cell_type": "markdown",
   "id": "f4eeeaa7",
   "metadata": {},
   "source": [
    "Variables globales :"
   ]
  },
  {
   "cell_type": "code",
   "execution_count": 2,
   "id": "9b773f5b",
   "metadata": {},
   "outputs": [],
   "source": [
    "phi_impose = 1"
   ]
  },
  {
   "cell_type": "markdown",
   "id": "340963a4",
   "metadata": {},
   "source": [
    "## 1) Maillage"
   ]
  },
  {
   "cell_type": "code",
   "execution_count": 3,
   "id": "64c22c71",
   "metadata": {},
   "outputs": [
    {
     "data": {
      "application/vnd.jupyter.widget-view+json": {
       "model_id": "d9740a0e3add4d55a6aaf68ce6122330",
       "version_major": 2,
       "version_minor": 0
      },
      "text/plain": [
       "WebGuiWidget(layout=Layout(height='50vh', width='100%'), value={'gui_settings': {}, 'ngsolve_version': '6.2.23…"
      ]
     },
     "metadata": {},
     "output_type": "display_data"
    },
    {
     "data": {
      "text/plain": [
       "BaseWebGuiScene"
      ]
     },
     "execution_count": 3,
     "metadata": {},
     "output_type": "execute_result"
    }
   ],
   "source": [
    "mesh = meshLamDisk(100, h = 1/50)\n",
    "Draw(mesh)"
   ]
  },
  {
   "cell_type": "markdown",
   "id": "a4f68ff4",
   "metadata": {},
   "source": [
    "## 2) Fonction objectif"
   ]
  },
  {
   "cell_type": "code",
   "execution_count": 4,
   "id": "14643a6a",
   "metadata": {},
   "outputs": [],
   "source": [
    "def fObjectif(ud,uq,mu):\n",
    "    return compliance(ud, mu, mesh) - compliance(uq, mu, mesh)\n",
    "\n",
    "def grad_fObjectif(ud,uq): # problème auto-adjoint\n",
    "    return grad(uq)*grad(uq) - grad(ud)*grad(ud) \n",
    "\n",
    "def fracVol(mu,mesh):\n",
    "    return Integrate((mu-mu0)/(mu0*(mur-1)),mesh) / Integrate(CoefficientFunction(1),mesh)"
   ]
  },
  {
   "cell_type": "markdown",
   "id": "4137d2c4",
   "metadata": {},
   "source": [
    "## 3) Optimisation\n",
    "### a) Boucle d'optimisation"
   ]
  },
  {
   "cell_type": "code",
   "execution_count": 5,
   "id": "87b420b3",
   "metadata": {},
   "outputs": [
    {
     "name": "stdout",
     "output_type": "stream",
     "text": [
      "mu_r = 10000.0 | it n°451 | f = -749638.2762293295 | pas = 1.1564063685932952e-15 | frac. vol = 0.29734359379389785\n"
     ]
    }
   ],
   "source": [
    "listeMur = np.logspace(0.3,4,20)\n",
    "\n",
    "listeMu = []\n",
    "listeJd = []\n",
    "listeJq = []\n",
    "listeJ =[]\n",
    "listeRhoFrac = []\n",
    "listeIter = []\n",
    "\n",
    "for mur in listeMur:\n",
    "\n",
    "## Initialisation\n",
    "\n",
    "    alpha = mur*mu0/10     # Pas initial\n",
    "    alpha_min = 1e-15      # Pas minimal\n",
    "    alpha_max = mur*mu0/5  # Pas maximal\n",
    "    n_max = 1000           # Nombre d'itérations de l'algorithme d'optimisation\n",
    "    n = 0\n",
    "\n",
    "# Définition de la situation initiale\n",
    "    spaceMu = L2(mesh)\n",
    "    mu = GridFunction(spaceMu)\n",
    "    mu.Set((mu0 + mur*mu0)/2)\n",
    "\n",
    "    ud, uq = solveDual_linear(mu,phi_impose,mesh)\n",
    "    objectiveHistory = [fObjectif(ud, uq, mu)]\n",
    "    muHistory = [copy(mu)]\n",
    "    fracVolHistory = [fracVol(mu,mesh)]\n",
    "\n",
    "## Boucle d'optimisation\n",
    "\n",
    "\n",
    "    while( n < n_max and alpha > alpha_min):\n",
    "    \n",
    "    # 1) Calcul de l'état physique :\n",
    "        ud, uq = solveDual_linear(mu,phi_impose,mesh)\n",
    "    \n",
    "    # 2) Calcul du gradient :\n",
    "        gradient = grad_fObjectif(ud,uq)\n",
    "    \n",
    "    # 3) Mise à jour :\n",
    "        mu_test = GridFunction(spaceMu)\n",
    "    \n",
    "    # normalisation du gradient :\n",
    "        g = 2*atan(gradient)/np.pi\n",
    "    \n",
    "    # mise à jour :\n",
    "        mu_test.Set(mu - alpha *g) \n",
    "        n += 1\n",
    "    \n",
    "    # 4) Projection :\n",
    "        mu_test.vec[:].FV().NumPy()[mu_test.vec[:].FV().NumPy()<mu0] = mu0\n",
    "        mu_test.vec[:].FV().NumPy()[mu_test.vec[:].FV().NumPy()>mu0*mur] = mu0*mur\n",
    "    \n",
    "    \n",
    "    # 5) Contrôle du pas :\n",
    "        ud_test, uq_test = solveDual_linear(mu_test,phi_impose,mesh)\n",
    "        objectiveHistory.append(fObjectif(ud_test, uq_test, mu_test))\n",
    "        clear_output(wait = True)\n",
    "    \n",
    "        print(f'mu_r = {mur} | it n°{n} | f = {objectiveHistory[-1]} | pas = {alpha} | frac. vol = {fracVolHistory[-1]}')\n",
    "    \n",
    "        if objectiveHistory[-1] >= objectiveHistory[-2]:\n",
    "            alpha = alpha/2\n",
    "            objectiveHistory.pop();\n",
    "        elif objectiveHistory[-1] < objectiveHistory[-2]:\n",
    "            alpha = min([alpha*1.2,alpha_max])\n",
    "            mu = mu_test\n",
    "            muHistory.append(copy(mu))\n",
    "            fracVolHistory.append(fracVol(mu,mesh))\n",
    "    \n",
    "    listeMu.append(copy(muHistory[-1]))\n",
    "    listeJd.append(compliance(ud, mu, mesh))\n",
    "    listeJq.append(compliance(uq, mu, mesh))\n",
    "    listeJ.append(objectiveHistory[-1])\n",
    "    listeRhoFrac.append(fracVolHistory[-1])\n",
    "    listeIter.append(n)"
   ]
  },
  {
   "cell_type": "markdown",
   "id": "66f15238",
   "metadata": {},
   "source": [
    "### b) Tracés des courbes"
   ]
  },
  {
   "cell_type": "code",
   "execution_count": 6,
   "id": "261e46de",
   "metadata": {},
   "outputs": [
    {
     "data": {
      "image/png": "[encoded data removed]",
      "text/plain": [
       "<Figure size 640x480 with 1 Axes>"
      ]
     },
     "metadata": {},
     "output_type": "display_data"
    }
   ],
   "source": [
    "# Tracé de J en fonction de mu_r\n",
    "plt.figure()\n",
    "listeMur2 = np.logspace(0.0001,4,100)\n",
    "listeRhoOpt = (np.sqrt(listeMur2)-1)/(listeMur2-1)\n",
    "listeMudOpt = listeRhoOpt * listeMur2 * mu0 + (1-listeRhoOpt)*mu0\n",
    "listeMuqOpt =1/(listeRhoOpt/(listeMur2*mu0) +(1-listeRhoOpt)/mu0 )\n",
    "\n",
    "plt.semilogx(listeMur,listeJd,'b*', label = '$J_d$')\n",
    "plt.semilogx(listeMur2, np.pi/2*phi_impose**2/listeMudOpt, 'b--',label = '$J_d^*$ optimal')\n",
    "plt.semilogx(listeMur,listeJq,'g*', label = '$J_q$')\n",
    "plt.semilogx(listeMur2, np.pi/2*phi_impose**2/listeMuqOpt, 'g--',label = '$J_q^*$ optimal')\n",
    "plt.semilogx(listeMur,-np.array(listeJ),'r*', label = '$-f = J_q - J_d$')\n",
    "plt.semilogx(listeMur2,np.pi/2*phi_impose**2/listeMuqOpt-np.pi/2*phi_impose**2/listeMudOpt,'r--', label = '$-f^*$ optimal')\n",
    "plt.xlabel('$\\mu_r$')\n",
    "plt.ylabel('Compliance')\n",
    "plt.grid()\n",
    "plt.legend(bbox_to_anchor=(1.05, 1))\n",
    "plt.show()"
   ]
  },
  {
   "cell_type": "code",
   "execution_count": 7,
   "id": "6d95df67",
   "metadata": {},
   "outputs": [
    {
     "data": {
      "image/png": "[encoded data removed]",
      "text/plain": [
       "<Figure size 640x480 with 1 Axes>"
      ]
     },
     "metadata": {},
     "output_type": "display_data"
    }
   ],
   "source": [
    "# Tracé de la fraction volumique en fonction de mu_r\n",
    "plt.figure()\n",
    "plt.semilogx(listeMur,listeRhoFrac,'k*', label = '$ \\\\rho $')\n",
    "plt.semilogx(listeMur2,listeRhoOpt,'k--', label = '$\\\\rho^*$ optimale')\n",
    "plt.ylabel('Fraction volumique')\n",
    "plt.legend(bbox_to_anchor=(1.05, 1))\n",
    "plt.grid()\n",
    "plt.show()"
   ]
  },
  {
   "cell_type": "markdown",
   "id": "507eb891",
   "metadata": {},
   "source": [
    "### c) Tracés des structures"
   ]
  },
  {
   "cell_type": "code",
   "execution_count": 9,
   "id": "28e34041",
   "metadata": {},
   "outputs": [
    {
     "data": {
      "application/vnd.jupyter.widget-view+json": {
       "model_id": "8fd7dcbb988b49489b1671cc708e3e64",
       "version_major": 2,
       "version_minor": 0
      },
      "text/plain": [
       "WebGuiWidget(layout=Layout(height='50vh', width='100%'), value={'gui_settings': {'mesh': False, 'edges': False…"
      ]
     },
     "metadata": {},
     "output_type": "display_data"
    },
    {
     "name": "stdout",
     "output_type": "stream",
     "text": [
      "mur = 1.9952623149688795\n"
     ]
    }
   ],
   "source": [
    "Draw(listeMu[0],mesh, settings = {'mesh' : False, 'edges' : False})\n",
    "print(f'mur = {listeMur[0]}')"
   ]
  },
  {
   "cell_type": "code",
   "execution_count": 10,
   "id": "b3cec035",
   "metadata": {},
   "outputs": [
    {
     "data": {
      "application/vnd.jupyter.widget-view+json": {
       "model_id": "6aff25e056ca4bb6a9a3eda42ba5ff14",
       "version_major": 2,
       "version_minor": 0
      },
      "text/plain": [
       "WebGuiWidget(layout=Layout(height='50vh', width='100%'), value={'gui_settings': {'mesh': False, 'edges': False…"
      ]
     },
     "metadata": {},
     "output_type": "display_data"
    },
    {
     "name": "stdout",
     "output_type": "stream",
     "text": [
      "mur = 11.993539462092343\n"
     ]
    }
   ],
   "source": [
    "Draw(listeMu[4],mesh, settings = {'mesh' : False, 'edges' : False})\n",
    "print(f'mur = {listeMur[4]}')"
   ]
  },
  {
   "cell_type": "code",
   "execution_count": 11,
   "id": "fb7aba96",
   "metadata": {},
   "outputs": [
    {
     "data": {
      "application/vnd.jupyter.widget-view+json": {
       "model_id": "1493eb537c254ee4a410222d2f846bea",
       "version_major": 2,
       "version_minor": 0
      },
      "text/plain": [
       "WebGuiWidget(layout=Layout(height='50vh', width='100%'), value={'gui_settings': {'mesh': False, 'edges': False…"
      ]
     },
     "metadata": {},
     "output_type": "display_data"
    },
    {
     "name": "stdout",
     "output_type": "stream",
     "text": [
      "mur = 72.0932720222353\n"
     ]
    }
   ],
   "source": [
    "Draw(listeMu[8],mesh, settings = {'mesh' : False, 'edges' : False})\n",
    "print(f'mur = {listeMur[8]}')"
   ]
  },
  {
   "cell_type": "code",
   "execution_count": 12,
   "id": "3274452c",
   "metadata": {},
   "outputs": [
    {
     "data": {
      "application/vnd.jupyter.widget-view+json": {
       "model_id": "41999a80587c469f81b65517fa704f6e",
       "version_major": 2,
       "version_minor": 0
      },
      "text/plain": [
       "WebGuiWidget(layout=Layout(height='50vh', width='100%'), value={'gui_settings': {'mesh': False, 'edges': False…"
      ]
     },
     "metadata": {},
     "output_type": "display_data"
    },
    {
     "name": "stdout",
     "output_type": "stream",
     "text": [
      "mur = 433.35329718965926\n"
     ]
    }
   ],
   "source": [
    "Draw(listeMu[12],mesh, settings = {'mesh' : False, 'edges' : False})\n",
    "print(f'mur = {listeMur[12]}')"
   ]
  },
  {
   "cell_type": "code",
   "execution_count": 13,
   "id": "11f7a25d",
   "metadata": {},
   "outputs": [
    {
     "data": {
      "application/vnd.jupyter.widget-view+json": {
       "model_id": "4bd87eb7ae1d4cafa82a18457e5f4cff",
       "version_major": 2,
       "version_minor": 0
      },
      "text/plain": [
       "WebGuiWidget(layout=Layout(height='50vh', width='100%'), value={'gui_settings': {'mesh': False, 'edges': False…"
      ]
     },
     "metadata": {},
     "output_type": "display_data"
    },
    {
     "name": "stdout",
     "output_type": "stream",
     "text": [
      "mur = 1663.6142493842228\n"
     ]
    }
   ],
   "source": [
    "Draw(listeMu[15],mesh, settings = {'mesh' : False, 'edges' : False})\n",
    "print(f'mur = {listeMur[15]}')"
   ]
  },
  {
   "cell_type": "code",
   "execution_count": 14,
   "id": "74955fd2",
   "metadata": {},
   "outputs": [
    {
     "data": {
      "application/vnd.jupyter.widget-view+json": {
       "model_id": "3bd1f1d127c547a5b6afa039704215d6",
       "version_major": 2,
       "version_minor": 0
      },
      "text/plain": [
       "WebGuiWidget(layout=Layout(height='50vh', width='100%'), value={'gui_settings': {'mesh': False, 'edges': False…"
      ]
     },
     "metadata": {},
     "output_type": "display_data"
    },
    {
     "name": "stdout",
     "output_type": "stream",
     "text": [
      "mur = 10000.0\n"
     ]
    }
   ],
   "source": [
    "Draw(listeMu[-1],mesh, settings = {'mesh' : False, 'edges' : False})\n",
    "print(f'mur = {listeMur[-1]}')"
   ]
  },
  {
   "cell_type": "code",
   "execution_count": null,
   "id": "18a1ac83",
   "metadata": {},
   "outputs": [],
   "source": []
  }
 ],
 "metadata": {
  "kernelspec": {
   "display_name": "Python 3 (ipykernel)",
   "language": "python",
   "name": "python3"
  },
  "language_info": {
   "codemirror_mode": {
    "name": "ipython",
    "version": 3
   },
   "file_extension": ".py",
   "mimetype": "text/x-python",
   "name": "python",
   "nbconvert_exporter": "python",
   "pygments_lexer": "ipython3",
   "version": "3.9.16"
  }
 },
 "nbformat": 4,
 "nbformat_minor": 5
}
