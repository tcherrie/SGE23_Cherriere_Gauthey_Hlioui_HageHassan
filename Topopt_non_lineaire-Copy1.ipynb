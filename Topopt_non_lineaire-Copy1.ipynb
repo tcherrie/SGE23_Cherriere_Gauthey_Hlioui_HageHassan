{
 "cells": [
  {
   "cell_type": "markdown",
   "id": "9ce5f5eb",
   "metadata": {},
   "source": [
    "# Optimisation topologique non-linéaire"
   ]
  },
  {
   "cell_type": "code",
   "execution_count": 1,
   "id": "fc30f595",
   "metadata": {},
   "outputs": [],
   "source": [
    "# Enlever les  # pour que les figures s'ouvrent dans une fenêtre interactive à part\n",
    "\n",
    "#%matplotlib qt5\n",
    "from module_optim_topo import *\n",
    "from ngsolve.solvers import Newton\n",
    "from IPython.display import clear_output\n",
    "from scipy.optimize import root\n",
    "from copy import copy\n",
    "#plt.ion()"
   ]
  },
  {
   "cell_type": "markdown",
   "id": "f7928c5b",
   "metadata": {},
   "source": [
    "## 1) Maillage"
   ]
  },
  {
   "cell_type": "code",
   "execution_count": 2,
   "id": "dfa55391",
   "metadata": {},
   "outputs": [
    {
     "data": {
      "application/vnd.jupyter.widget-view+json": {
       "model_id": "cd8b10af0c854115b85bde06356aae8b",
       "version_major": 2,
       "version_minor": 0
      },
      "text/plain": [
       "WebGuiWidget(layout=Layout(height='50vh', width='100%'), value={'gui_settings': {}, 'ngsolve_version': '6.2.23…"
      ]
     },
     "metadata": {},
     "output_type": "display_data"
    },
    {
     "data": {
      "text/plain": [
       "BaseWebGuiScene"
      ]
     },
     "execution_count": 2,
     "metadata": {},
     "output_type": "execute_result"
    }
   ],
   "source": [
    "mesh = meshLamDisk(30, h = 1/30)\n",
    "Draw(mesh)"
   ]
  },
  {
   "cell_type": "markdown",
   "id": "e56f5966",
   "metadata": {},
   "source": [
    "## 2) Définition du matériau"
   ]
  },
  {
   "cell_type": "code",
   "execution_count": 3,
   "id": "329a23e7",
   "metadata": {},
   "outputs": [
    {
     "data": {
      "image/png": "[encoded data removed]",
      "text/plain": [
       "<Figure size 640x480 with 2 Axes>"
      ]
     },
     "metadata": {},
     "output_type": "display_data"
    }
   ],
   "source": [
    "mu_r0 = 1000\n",
    "hsat = 3e6/mu_r0\n",
    "mu0 = 4e-7*np.pi\n",
    "\n",
    "def b(h):\n",
    "    if str(type(h)) == \"<class 'numpy.ndarray'>\":\n",
    "        return mu0*(2*mu_r0*h-(np.arctan(h/hsat)/np.pi+0.5)*(2*mu_r0-1)*h )\n",
    "    return mu0*(2*mu_r0*h-(atan(h/hsat)/np.pi+0.5)*(2*mu_r0-1)*h )\n",
    "\n",
    "def dbdh(h):\n",
    "    if str(type(h)) == \"<class 'numpy.ndarray'>\":\n",
    "        return -mu0*((2*mu_r0 - 1)*(np.arctan(h/hsat)/np.pi + 1/2) - 2*mu_r0 + (h*(2*mu_r0 - 1))/(hsat*np.pi*(h**2/hsat**2 + 1)))\n",
    "    return -mu0*((2*mu_r0 - 1)*(atan(h/hsat)/np.pi + 1/2) - 2*mu_r0 + (h*(2*mu_r0 - 1))/(hsat*np.pi*(h**2/hsat**2 + 1)))\n",
    "\n",
    "def mu(phi,rho):\n",
    "    h = sqrt(grad(phi)*grad(phi)+1e-20)\n",
    "    return b(h)/h*rho + (1-rho)*mu0\n",
    "\n",
    "def dmudh(phi,rho):\n",
    "    h = sqrt(grad(phi)*grad(phi)+1e-20)\n",
    "    return (dbdh(h)*h - b(h))/(h**2)*rho\n",
    "\n",
    "def dmudrho(phi,rho):\n",
    "    h = sqrt(grad(phi)*grad(phi)+1e-20)\n",
    "    return b(h)/h - mu0\n",
    "\n",
    "# Tracé\n",
    "H = np.linspace(1e-6,1e5,1000)\n",
    "fig, ax1 = plt.subplots()\n",
    "plt.grid()\n",
    "ax2 = ax1.twinx()\n",
    "ax1.plot(H,b(H), 'b-') ; ax2.plot(H,b(H)/H/mu0, 'g-')\n",
    "\n",
    "ax1.axis([-1000,1e5,0,2.6]) ;\n",
    "ax1.set_xlabel('$H$ (A/m)') ; ax1.set_ylabel('$B$ (T)', color='b')\n",
    "ax2.set_ylabel('$\\mu_r$', color='g') ; ax2.axis([-1000,1e5,0,1040])\n",
    "plt.show()"
   ]
  },
  {
   "cell_type": "markdown",
   "id": "645a9f39",
   "metadata": {},
   "source": [
    "## 3) Eléments finis non-linéaires"
   ]
  },
  {
   "cell_type": "code",
   "execution_count": 4,
   "id": "a3c9846b",
   "metadata": {},
   "outputs": [],
   "source": [
    "def solveDual_NL(rho, bmoy ,mesh):\n",
    "    # le champ 1 est vertical, le champ 2 est horizontal\n",
    "    # on impose les flux\n",
    "        \n",
    "    fespace_H1 = H1(mesh, order=1)\n",
    "    fespace_H1.FreeDofs()[0] = False\n",
    "    phi = fespace_H1.TrialFunction()\n",
    "    psi = fespace_H1.TestFunction()\n",
    "    \n",
    "    K1 = BilinearForm(fespace_H1, symmetric=True)\n",
    "    K1 +=  grad(psi)*mu(phi,rho)*grad(phi)*dx\n",
    "    K1 += psi*bmoy*sqrt(1-x**2)*ds(definedon=mesh.Boundaries(\"right_bot|left_bot\"))\n",
    "    K1 += -psi*bmoy*sqrt(1-x**2)*ds(definedon=mesh.Boundaries(\"left_up|right_up\"))\n",
    "    \n",
    "    K2 = BilinearForm(fespace_H1, symmetric=True)\n",
    "    K2 +=  grad(psi)*mu(phi,rho)*grad(phi)*dx\n",
    "    K2 += psi*bmoy*sqrt(1-y**2)*ds(definedon=mesh.Boundaries(\"right_up|right_bot\"))\n",
    "    K2 += - psi*bmoy*sqrt(1-y**2)*ds(definedon=mesh.Boundaries(\"left_up|left_bot\"))\n",
    "    \n",
    "    phi1 = GridFunction(fespace_H1)\n",
    "    phi2 = GridFunction(fespace_H1)\n",
    "    \n",
    "    d = min(0.1,1/(np.exp(4*bmoy))) #réglage heuristique de l'amortissement\n",
    "    \n",
    "    conv1 = Newton(K1,phi1, freedofs = fespace_H1.FreeDofs() ,printing=False, maxit=500, maxerr=1e-8, dampfactor = d, inverse=\"pardiso\")\n",
    "    conv2 = Newton(K2,phi2, freedofs = fespace_H1.FreeDofs() ,printing=False, maxit=500, maxerr=1e-8, dampfactor = d, inverse=\"pardiso\")\n",
    "    \n",
    "    return phi1, phi2, conv1[0], conv2[0]"
   ]
  },
  {
   "cell_type": "markdown",
   "id": "b554cb3f",
   "metadata": {},
   "source": [
    "## 3) Fonction objectif"
   ]
  },
  {
   "cell_type": "code",
   "execution_count": 5,
   "id": "c4e878eb",
   "metadata": {},
   "outputs": [],
   "source": [
    "def fObjectif(ud, uq, rho):\n",
    "    return compliance(ud, mu(ud,rho), mesh) - compliance(uq, mu(uq,rho), mesh)\n",
    "\n",
    "def fracVol(rho,mesh):\n",
    "    return Integrate(rho,mesh) / Integrate(CoefficientFunction(1),mesh)"
   ]
  },
  {
   "cell_type": "markdown",
   "id": "ed6da703",
   "metadata": {},
   "source": [
    "## 4) Adjoint et gradient"
   ]
  },
  {
   "cell_type": "code",
   "execution_count": 6,
   "id": "61032381",
   "metadata": {},
   "outputs": [],
   "source": [
    "def solveAdjoint(ud, uq, rho):\n",
    "    fespace_H1 = H1(mesh, order=1)\n",
    "    fespace_H1.FreeDofs()[0] = False\n",
    "    \n",
    "    phi = fespace_H1.TrialFunction()\n",
    "    psi = fespace_H1.TestFunction()\n",
    "    \n",
    "    dK1 = BilinearForm(fespace_H1, symmetric=True)\n",
    "    dK1 +=  grad(psi)*mu(phi,rho)*grad(phi)*dx\n",
    "    dK2 = BilinearForm(fespace_H1, symmetric=True)\n",
    "    dK2 +=  grad(psi)*mu(phi,rho)*grad(phi)*dx\n",
    "    \n",
    "    dK1.AssembleLinearization(ud.vec)\n",
    "    dK2.AssembleLinearization(uq.vec)\n",
    "    \n",
    "    dJ1 = LinearForm(fespace_H1)\n",
    "    \n",
    "    norm_hd = sqrt(1e-15+grad(ud)*grad(ud))\n",
    "    dJ1 += - (dmudh(ud,rho)*norm_hd*grad(ud)*grad(psi)/2 + mu(ud,rho)*grad(ud)*grad(psi))*dx \n",
    "    \n",
    "    norm_hq = sqrt(1e-15+grad(uq)*grad(uq))\n",
    "    dJ2 = LinearForm(fespace_H1)\n",
    "    dJ2 += ( dmudh(uq,rho)*norm_hq*grad(uq)*grad(psi)/2 + mu(uq,rho)*grad(psi)*grad(uq) )*dx \n",
    "\n",
    "    dJ1.Assemble()\n",
    "    dJ2.Assemble()\n",
    "    \n",
    "    lb1 = GridFunction(fespace_H1)\n",
    "    lb2 = GridFunction(fespace_H1)\n",
    "    \n",
    "    lb1.vec.data = (dK1.mat.Inverse(fespace_H1.FreeDofs(), inverse=\"sparsecholesky\").T * dJ1.vec)\n",
    "    lb2.vec.data = (dK2.mat.Inverse(fespace_H1.FreeDofs(), inverse=\"sparsecholesky\").T * dJ2.vec)\n",
    "\n",
    "    return lb1,lb2\n",
    "\n",
    "\n",
    "def grad_fObjectif(ud, uq, lbd, lbq, rho):\n",
    "    mu1 = mu(ud,rho)\n",
    "    mu2 = mu(uq,rho)\n",
    "    Lag = (grad(lbd)*mu1*grad(ud) + grad(lbq)*mu2*grad(uq))*dx # FV\n",
    "    Lag += (grad(ud)*mu1* grad(ud) -  grad(uq)*mu2* grad(uq))/2*dx # fonction objectif\n",
    "    rho_test = rho.space.TestFunction()\n",
    "    temp = LinearForm(rho.space)\n",
    "    temp += Lag.Diff(rho,rho_test)\n",
    "    temp.Assemble()\n",
    "    r_temp = GridFunction(rho.space)\n",
    "    r_temp.vec.data = temp.vec\n",
    "    return r_temp"
   ]
  },
  {
   "cell_type": "markdown",
   "id": "6b9b1730",
   "metadata": {},
   "source": [
    "## 5) Optimisation"
   ]
  },
  {
   "cell_type": "code",
   "execution_count": 7,
   "id": "52c31092",
   "metadata": {},
   "outputs": [
    {
     "name": "stdout",
     "output_type": "stream",
     "text": [
      "Bmoy = 0.2 | it n°1000 | f = -25045.30499511703 | pas = 0.00023718264284993486 | frac. vol = 0.3943475498206137\n"
     ]
    }
   ],
   "source": [
    "#listeBmoy = np.arange(0.2,2.6,0.2) # (long!)\n",
    "listeBmoy = [0.2] # \n",
    "\n",
    "listeRho = []\n",
    "listeJd = []\n",
    "listeJq = []\n",
    "listeJ =[]\n",
    "listeRhoFrac = []\n",
    "listeIter = []\n",
    "\n",
    "for Bmoy in listeBmoy:\n",
    "\n",
    "## Initialisation\n",
    "\n",
    "    alpha = 1/10          # Pas initial\n",
    "    alpha_min = 1e-6      # Pas minimal\n",
    "    alpha_max = 1/2       # Pas maximal\n",
    "    n_max = 1000          # Nombre d'itérations de l'algorithme d'optimisation\n",
    "    n = 0\n",
    "\n",
    "# Définition de la situation initiale\n",
    "    spaceRho = L2(mesh)\n",
    "    rho = GridFunction(spaceRho)\n",
    "    rho.Set(0.5)\n",
    "\n",
    "    ud, uq, conv1, conv2 = solveDual_NL(rho, Bmoy, mesh)\n",
    "    objectiveHistory = [fObjectif(ud, uq, rho)]\n",
    "    rhoHistory = [copy(rho)]\n",
    "    fracVolHistory = [fracVol(rho,mesh)]\n",
    "\n",
    "## Boucle d'optimisation\n",
    "\n",
    "\n",
    "    while( n < n_max and alpha > alpha_min):\n",
    "    \n",
    "    # 1) Calcul de l'état physique :\n",
    "        ud, uq, conv1, conv2 = solveDual_NL(rho, Bmoy, mesh)\n",
    "        \n",
    "        if conv1==-1 or conv2==-1:\n",
    "            print('non-convergence NR') # ça peut arriver... dans ce cas, baisser le damping ou bien augmenter maxit\n",
    "            break\n",
    "    \n",
    "    # 2) Calcul du gradient :\n",
    "        lbd, lbq = solveAdjoint(ud, uq, rho)\n",
    "        gradient = grad_fObjectif(ud, uq, lbd, lbq, rho)\n",
    "    \n",
    "    # 3) Mise à jour :\n",
    "        rho_test = GridFunction(spaceRho)\n",
    "    \n",
    "    # 4 normalisation du gradient :\n",
    "        g = GridFunction(spaceRho)\n",
    "        g.Set(gradient)\n",
    "        g.vec[:] = np.sign(g.vec[:].FV().NumPy())\n",
    "        #g = 2*atan(gradient)/np.pi\n",
    "    \n",
    "    # 5 mise à jour :\n",
    "        rho_test.Set(rho - alpha *g) \n",
    "        n += 1\n",
    "    \n",
    "    # 6) Projection :\n",
    "        rho_test.vec[:].FV().NumPy()[rho_test.vec[:].FV().NumPy()<0] = 0\n",
    "        rho_test.vec[:].FV().NumPy()[rho_test.vec[:].FV().NumPy()>1] = 1\n",
    "    \n",
    "    \n",
    "    # 7) Contrôle du pas :\n",
    "        ud_test, uq_test, conv1, conv2 = solveDual_NL(rho_test,Bmoy, mesh)\n",
    "        \n",
    "        if conv1==-1 or conv2==-1:\n",
    "            print('non-convergence NR')\n",
    "            break\n",
    "            \n",
    "        objectiveHistory.append(fObjectif(ud_test, uq_test, rho_test))\n",
    "        clear_output(wait = True)\n",
    "    \n",
    "        print(f'Bmoy = {Bmoy} | it n°{n} | f = {objectiveHistory[-1]} | pas = {alpha} | frac. vol = {fracVolHistory[-1]}')\n",
    "    \n",
    "        if (objectiveHistory[-1] >= objectiveHistory[-2]):\n",
    "            alpha = alpha/2\n",
    "            objectiveHistory.pop();\n",
    "        else:\n",
    "            alpha = min([alpha*1.2,alpha_max])\n",
    "            rho = rho_test\n",
    "            rhoHistory.append(copy(rho))\n",
    "            fracVolHistory.append(fracVol(rho,mesh))\n",
    "            \n",
    "    if conv1==-1 or conv2==-1:\n",
    "        break\n",
    "            \n",
    "    listeRho.append(copy(rhoHistory[-1]))\n",
    "    listeJd.append(compliance(ud, mu(ud,rho), mesh))\n",
    "    listeJq.append(compliance(uq, mu(uq,rho), mesh))\n",
    "    listeJ.append(objectiveHistory[-1])\n",
    "    listeRhoFrac.append(fracVolHistory[-1])\n",
    "    listeIter.append(n)"
   ]
  },
  {
   "cell_type": "markdown",
   "id": "2a2e6cec",
   "metadata": {},
   "source": [
    "## 6) Tracés"
   ]
  },
  {
   "cell_type": "code",
   "execution_count": 8,
   "id": "8a50bedb",
   "metadata": {},
   "outputs": [
    {
     "data": {
      "application/vnd.jupyter.widget-view+json": {
       "model_id": "4d2baa51824a44ac9574008c216e8f57",
       "version_major": 2,
       "version_minor": 0
      },
      "text/plain": [
       "WebGuiWidget(layout=Layout(height='50vh', width='100%'), value={'gui_settings': {'mesh': False, 'edges': False…"
      ]
     },
     "metadata": {},
     "output_type": "display_data"
    },
    {
     "data": {
      "text/plain": [
       "BaseWebGuiScene"
      ]
     },
     "execution_count": 8,
     "metadata": {},
     "output_type": "execute_result"
    }
   ],
   "source": [
    "Draw(rho,max=1,min=0, settings = {'mesh' : False, 'edges' : False})"
   ]
  },
  {
   "cell_type": "code",
   "execution_count": 10,
   "id": "56863dc1",
   "metadata": {},
   "outputs": [
    {
     "data": {
      "application/vnd.jupyter.widget-view+json": {
       "model_id": "8a4c3096e13d41bea03d385179f8c978",
       "version_major": 2,
       "version_minor": 0
      },
      "text/plain": [
       "WebGuiWidget(layout=Layout(height='50vh', width='100%'), value={'gui_settings': {'mesh': False, 'colormap_ncol…"
      ]
     },
     "metadata": {},
     "output_type": "display_data"
    },
    {
     "data": {
      "text/plain": [
       "BaseWebGuiScene"
      ]
     },
     "execution_count": 10,
     "metadata": {},
     "output_type": "execute_result"
    }
   ],
   "source": [
    "Draw(mu(ud,rho)*grad(ud),mesh, min = 0, max=3, vectors = { \"grid_size\":20},\n",
    "     settings={'mesh' : False, 'colormap_ncolors' : 256})"
   ]
  }
 ],
 "metadata": {
  "kernelspec": {
   "display_name": "Python 3 (ipykernel)",
   "language": "python",
   "name": "python3"
  },
  "language_info": {
   "codemirror_mode": {
    "name": "ipython",
    "version": 3
   },
   "file_extension": ".py",
   "mimetype": "text/x-python",
   "name": "python",
   "nbconvert_exporter": "python",
   "pygments_lexer": "ipython3",
   "version": "3.9.16"
  }
 },
 "nbformat": 4,
 "nbformat_minor": 5
}
